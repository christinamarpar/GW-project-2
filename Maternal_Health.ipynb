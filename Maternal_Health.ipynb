{
 "cells": [
  {
   "cell_type": "code",
   "execution_count": 1,
   "metadata": {},
   "outputs": [],
   "source": [
    "import pandas as pd\n",
    "import sqlalchemy\n",
    "from sqlalchemy.ext.automap import automap_base\n",
    "from sqlalchemy.orm import Session\n",
    "from sqlalchemy import create_engine\n",
    "from sqlalchemy import Column, Integer, String, Float\n",
    "from sqlalchemy import inspect\n",
    "\n",
    "from sqlalchemy.ext.declarative import declarative_base\n",
    "Base = declarative_base()"
   ]
  },
  {
   "cell_type": "code",
   "execution_count": 2,
   "metadata": {},
   "outputs": [
    {
     "data": {
      "text/html": [
       "<div>\n",
       "<style scoped>\n",
       "    .dataframe tbody tr th:only-of-type {\n",
       "        vertical-align: middle;\n",
       "    }\n",
       "\n",
       "    .dataframe tbody tr th {\n",
       "        vertical-align: top;\n",
       "    }\n",
       "\n",
       "    .dataframe thead th {\n",
       "        text-align: right;\n",
       "    }\n",
       "</style>\n",
       "<table border=\"1\" class=\"dataframe\">\n",
       "  <thead>\n",
       "    <tr style=\"text-align: right;\">\n",
       "      <th></th>\n",
       "      <th>country_region</th>\n",
       "      <th>lifetime_risk_maternal_death</th>\n",
       "      <th>pregnant_women_receiving_prenatal_care</th>\n",
       "      <th>prevalence_of_anemia_among_pregnant_women</th>\n",
       "    </tr>\n",
       "  </thead>\n",
       "  <tbody>\n",
       "    <tr>\n",
       "      <th>0</th>\n",
       "      <td>Afghanistan</td>\n",
       "      <td>6.0</td>\n",
       "      <td>36.0</td>\n",
       "      <td>39</td>\n",
       "    </tr>\n",
       "    <tr>\n",
       "      <th>1</th>\n",
       "      <td>Albania</td>\n",
       "      <td>0.0</td>\n",
       "      <td>95.0</td>\n",
       "      <td>24</td>\n",
       "    </tr>\n",
       "    <tr>\n",
       "      <th>2</th>\n",
       "      <td>Algeria</td>\n",
       "      <td>0.0</td>\n",
       "      <td>83.0</td>\n",
       "      <td>37</td>\n",
       "    </tr>\n",
       "    <tr>\n",
       "      <th>3</th>\n",
       "      <td>American Samoa</td>\n",
       "      <td>NaN</td>\n",
       "      <td>NaN</td>\n",
       "      <td>0</td>\n",
       "    </tr>\n",
       "    <tr>\n",
       "      <th>4</th>\n",
       "      <td>Andorra</td>\n",
       "      <td>NaN</td>\n",
       "      <td>NaN</td>\n",
       "      <td>20</td>\n",
       "    </tr>\n",
       "  </tbody>\n",
       "</table>\n",
       "</div>"
      ],
      "text/plain": [
       "   country_region  lifetime_risk_maternal_death  \\\n",
       "0     Afghanistan                           6.0   \n",
       "1         Albania                           0.0   \n",
       "2         Algeria                           0.0   \n",
       "3  American Samoa                           NaN   \n",
       "4         Andorra                           NaN   \n",
       "\n",
       "   pregnant_women_receiving_prenatal_care  \\\n",
       "0                                    36.0   \n",
       "1                                    95.0   \n",
       "2                                    83.0   \n",
       "3                                     NaN   \n",
       "4                                     NaN   \n",
       "\n",
       "   prevalence_of_anemia_among_pregnant_women  \n",
       "0                                         39  \n",
       "1                                         24  \n",
       "2                                         37  \n",
       "3                                          0  \n",
       "4                                         20  "
      ]
     },
     "execution_count": 2,
     "metadata": {},
     "output_type": "execute_result"
    }
   ],
   "source": [
    "data = pd.read_csv('data.csv')\n",
    "data.head(5)"
   ]
  },
  {
   "cell_type": "code",
   "execution_count": 3,
   "metadata": {},
   "outputs": [
    {
     "data": {
      "text/html": [
       "<div>\n",
       "<style scoped>\n",
       "    .dataframe tbody tr th:only-of-type {\n",
       "        vertical-align: middle;\n",
       "    }\n",
       "\n",
       "    .dataframe tbody tr th {\n",
       "        vertical-align: top;\n",
       "    }\n",
       "\n",
       "    .dataframe thead th {\n",
       "        text-align: right;\n",
       "    }\n",
       "</style>\n",
       "<table border=\"1\" class=\"dataframe\">\n",
       "  <thead>\n",
       "    <tr style=\"text-align: right;\">\n",
       "      <th></th>\n",
       "      <th>country_region</th>\n",
       "      <th>lifetime_risk_maternal_death</th>\n",
       "      <th>pregnant_women_receiving_prenatal_care</th>\n",
       "      <th>prevalence_of_anemia_among_pregnant_women</th>\n",
       "    </tr>\n",
       "  </thead>\n",
       "  <tbody>\n",
       "    <tr>\n",
       "      <th>0</th>\n",
       "      <td>Afghanistan</td>\n",
       "      <td>6.0</td>\n",
       "      <td>36.0</td>\n",
       "      <td>39</td>\n",
       "    </tr>\n",
       "    <tr>\n",
       "      <th>1</th>\n",
       "      <td>Albania</td>\n",
       "      <td>0.0</td>\n",
       "      <td>95.0</td>\n",
       "      <td>24</td>\n",
       "    </tr>\n",
       "    <tr>\n",
       "      <th>2</th>\n",
       "      <td>Algeria</td>\n",
       "      <td>0.0</td>\n",
       "      <td>83.0</td>\n",
       "      <td>37</td>\n",
       "    </tr>\n",
       "    <tr>\n",
       "      <th>3</th>\n",
       "      <td>American Samoa</td>\n",
       "      <td>0.0</td>\n",
       "      <td>0.0</td>\n",
       "      <td>0</td>\n",
       "    </tr>\n",
       "    <tr>\n",
       "      <th>4</th>\n",
       "      <td>Andorra</td>\n",
       "      <td>0.0</td>\n",
       "      <td>0.0</td>\n",
       "      <td>20</td>\n",
       "    </tr>\n",
       "  </tbody>\n",
       "</table>\n",
       "</div>"
      ],
      "text/plain": [
       "   country_region  lifetime_risk_maternal_death  \\\n",
       "0     Afghanistan                           6.0   \n",
       "1         Albania                           0.0   \n",
       "2         Algeria                           0.0   \n",
       "3  American Samoa                           0.0   \n",
       "4         Andorra                           0.0   \n",
       "\n",
       "   pregnant_women_receiving_prenatal_care  \\\n",
       "0                                    36.0   \n",
       "1                                    95.0   \n",
       "2                                    83.0   \n",
       "3                                     0.0   \n",
       "4                                     0.0   \n",
       "\n",
       "   prevalence_of_anemia_among_pregnant_women  \n",
       "0                                         39  \n",
       "1                                         24  \n",
       "2                                         37  \n",
       "3                                          0  \n",
       "4                                         20  "
      ]
     },
     "execution_count": 3,
     "metadata": {},
     "output_type": "execute_result"
    }
   ],
   "source": [
    "maternal_data = data.fillna(0)\n",
    "maternal_data.head(5)"
   ]
  },
  {
   "cell_type": "code",
   "execution_count": 4,
   "metadata": {},
   "outputs": [],
   "source": [
    "maternal_data.to_csv(\"maternal_data.csv\")"
   ]
  },
  {
   "cell_type": "code",
   "execution_count": 5,
   "metadata": {},
   "outputs": [],
   "source": [
    "maternal_stats = pd.read_csv(\"maternal_data.csv\")"
   ]
  },
  {
   "cell_type": "code",
   "execution_count": 7,
   "metadata": {},
   "outputs": [],
   "source": [
    "engine = create_engine(\"sqlite:///maternal_health.sqlite\")"
   ]
  },
  {
   "cell_type": "code",
   "execution_count": 8,
   "metadata": {},
   "outputs": [],
   "source": [
    "class Maternal_Stats(Base):\n",
    "    __tablename__ = \"maternal_stats\"\n",
    "    id = Column(Integer, primary_key = True)\n",
    "    country_region = Column(String)\n",
    "    lifetime_risk_maternal_death = Column(Integer)\n",
    "    pregnant_women_receiving_prenatal_care = Column(Integer)\n",
    "    prevalence_of_anemia_among_pregnant_women = Column(Integer)"
   ]
  },
  {
   "cell_type": "code",
   "execution_count": 9,
   "metadata": {},
   "outputs": [],
   "source": [
    "conn = engine.connect()\n",
    "Base.metadata.create_all(engine)"
   ]
  },
  {
   "cell_type": "code",
   "execution_count": 10,
   "metadata": {},
   "outputs": [
    {
     "data": {
      "text/plain": [
       "<sqlalchemy.engine.result.ResultProxy at 0x10b253d68>"
      ]
     },
     "execution_count": 10,
     "metadata": {},
     "output_type": "execute_result"
    }
   ],
   "source": [
    "maternal_table = maternal_stats.to_dict(\"records\")\n",
    "conn.execute(Maternal_Stats.__table__.delete())\n",
    "conn.execute(Maternal_Stats.__table__.insert(), maternal_table)"
   ]
  },
  {
   "cell_type": "code",
   "execution_count": 11,
   "metadata": {},
   "outputs": [
    {
     "data": {
      "text/plain": [
       "[(1, 'Afghanistan', 6, 36, 39),\n",
       " (2, 'Albania', 0, 95, 24),\n",
       " (3, 'Algeria', 0, 83, 37),\n",
       " (4, 'American Samoa', 0, 0, 0),\n",
       " (5, 'Andorra', 0, 0, 20),\n",
       " (6, 'Angola', 5, 73, 53),\n",
       " (7, 'Antigua and Barbuda', 0, 98, 27),\n",
       " (8, 'Arab World', 1, 65, 38),\n",
       " (9, 'Argentina', 0, 98, 28),\n",
       " (10, 'Armenia', 0, 95, 26),\n",
       " (11, 'Aruba', 0, 0, 0),\n",
       " (12, 'Australia', 0, 98, 20),\n",
       " (13, 'Austria', 0, 0, 24),\n",
       " (14, 'Azerbaijan', 0, 71, 35),\n",
       " (15, 'Bahamas, The', 0, 96, 28)]"
      ]
     },
     "execution_count": 11,
     "metadata": {},
     "output_type": "execute_result"
    }
   ],
   "source": [
    "engine.execute(\"SELECT * from maternal_stats LIMIT 15\").fetchall()"
   ]
  }
 ],
 "metadata": {
  "kernelspec": {
   "display_name": "Python 3",
   "language": "python",
   "name": "python3"
  },
  "language_info": {
   "codemirror_mode": {
    "name": "ipython",
    "version": 3
   },
   "file_extension": ".py",
   "mimetype": "text/x-python",
   "name": "python",
   "nbconvert_exporter": "python",
   "pygments_lexer": "ipython3",
   "version": "3.6.3"
  }
 },
 "nbformat": 4,
 "nbformat_minor": 2
}
